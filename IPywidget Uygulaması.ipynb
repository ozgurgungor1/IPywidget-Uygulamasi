{
 "cells": [
  {
   "cell_type": "markdown",
   "id": "96f648ff-5126-4061-aa47-22709e2cbdb2",
   "metadata": {},
   "source": [
    "### Content"
   ]
  },
  {
   "cell_type": "raw",
   "id": "40ec2620-acc0-4dde-ab92-d5551d217940",
   "metadata": {},
   "source": [
    "1 ### Library Import ###\n",
    "  1.1 ### Widgets\n",
    "  1.2 ### CSV/Data Ops\n",
    "  1.3 ### Drawing\n",
    "\n",
    "2 ### Widgets ###\n",
    "  2.1  ### Tabs\n",
    "  2.2  ### FileUpload\n",
    "  2.3  ### Output\n",
    "  2.4  ### SelectMultiple\n",
    "  2.5  ### RadioButton\n",
    "  2.6  ### IntSlider\n",
    "  2.7  ### Accordion\n",
    "  2.8  ### Button\n",
    "  2.9  ### HBox/VBox\n",
    "  2.10 ### ToggleButtons\n",
    "  2.11 ### Dropdown\n",
    "  2.12 ### ColorPicker\n",
    "\n",
    "3 ### Value Import ###\n",
    "\n",
    "4 ### Button Action ###\n",
    "  4.1 ### Prewiew Button\n",
    "  4.2 ### Upload Button\n",
    "  4.3 ### Description ToggloButton\n",
    "  4.4 ### Plot Button;"
   ]
  },
  {
   "cell_type": "code",
   "execution_count": 1,
   "id": "697a727d-1bd6-49ad-9590-27b0ac6dfb2a",
   "metadata": {},
   "outputs": [],
   "source": [
    "# Widgets:\n",
    "import ipywidgets as widgets\n",
    "\n",
    "# CSV/DataFrame:\n",
    "import pandas as pd\n",
    "import numpy as np\n",
    "from io import StringIO\n",
    "\n",
    "# Drawing:\n",
    "import matplotlib.pyplot as plt\n",
    "%matplotlib inline"
   ]
  },
  {
   "cell_type": "markdown",
   "id": "0f338115-fd70-442c-8956-5425088ed7d8",
   "metadata": {},
   "source": [
    "### Widgets"
   ]
  },
  {
   "cell_type": "raw",
   "id": "f5998c0a-a34b-43e4-b7eb-9a8f7cf9c521",
   "metadata": {},
   "source": [
    "    1   ### Tabs\n",
    "    2   ### FileUpload\n",
    "    3   ### Output\n",
    "    4   ### SelectMultiple\n",
    "    5   ### RadioButton\n",
    "    6   ### IntSlider\n",
    "    7   ### Accordion\n",
    "    8   ### Button\n",
    "    9   ### HBox/VBox\n",
    "    10  ### ToggleButtons\n",
    "    11  ### Dropdown\n",
    "    12  ### ColorPicker"
   ]
  },
  {
   "cell_type": "markdown",
   "id": "4ac9202c-8f49-4e09-915e-fdc2f3496255",
   "metadata": {},
   "source": [
    "### Tabs"
   ]
  },
  {
   "cell_type": "code",
   "execution_count": 23,
   "id": "89ef3dc6-edbd-431e-b5a8-fa34c724d535",
   "metadata": {},
   "outputs": [
    {
     "data": {
      "application/vnd.jupyter.widget-view+json": {
       "model_id": "aeebdba33bb344009664aa4b515f2a27",
       "version_major": 2,
       "version_minor": 0
      },
      "text/plain": [
       "Tab(children=(Label(value=''), Label(value=''), Label(value='')), selected_index=0, titles=('Upload', 'Describ…"
      ]
     },
     "execution_count": 23,
     "metadata": {},
     "output_type": "execute_result"
    }
   ],
   "source": [
    "tab = widgets.Tab()\n",
    "placeholder = widgets.Label()\n",
    "tab.children = [placeholder,placeholder,placeholder]\n",
    "tab.set_title(0, \"Upload\")\n",
    "tab.set_title(1, \"Describer\")\n",
    "tab.set_title(2, \"Plotter\")\n",
    "tab"
   ]
  },
  {
   "cell_type": "markdown",
   "id": "a5e0cb54-9975-456f-b5d2-ec1ba09d3a6e",
   "metadata": {},
   "source": [
    "# Fileupload Widget"
   ]
  },
  {
   "cell_type": "code",
   "execution_count": 24,
   "id": "f957b35a-7d91-4379-ab2e-e3f7cd587d41",
   "metadata": {},
   "outputs": [
    {
     "data": {
      "application/vnd.jupyter.widget-view+json": {
       "model_id": "d02d97c95c7a40d18512bdd7aa77ef3f",
       "version_major": 2,
       "version_minor": 0
      },
      "text/plain": [
       "FileUpload(value=(), description='Upload')"
      ]
     },
     "execution_count": 24,
     "metadata": {},
     "output_type": "execute_result"
    }
   ],
   "source": [
    "up = widgets.FileUpload(accept=\"\", multiple=False)\n",
    "up"
   ]
  },
  {
   "cell_type": "markdown",
   "id": "d48352cb-03ad-4b7a-b734-00ba6a4006a2",
   "metadata": {},
   "source": [
    "### Output Widget "
   ]
  },
  {
   "cell_type": "code",
   "execution_count": 25,
   "id": "9ab5f59c-1390-4477-8d5f-9ec625c11daa",
   "metadata": {},
   "outputs": [
    {
     "data": {
      "application/vnd.jupyter.widget-view+json": {
       "model_id": "aeebdba33bb344009664aa4b515f2a27",
       "version_major": 2,
       "version_minor": 0
      },
      "text/plain": [
       "Tab(children=(FileUpload(value=(), description='Upload'), Output(layout=Layout(border_bottom='1px solid black'…"
      ]
     },
     "execution_count": 25,
     "metadata": {},
     "output_type": "execute_result"
    }
   ],
   "source": [
    "out = widgets.Output(layout={'border': '1px solid black'})\n",
    "tab.children = [up,out,out]\n",
    "tab"
   ]
  },
  {
   "cell_type": "markdown",
   "id": "c7faa54a-bc09-494c-9c5b-dd4ace167884",
   "metadata": {},
   "source": [
    "### SelectMultiple Widget"
   ]
  },
  {
   "cell_type": "code",
   "execution_count": 26,
   "id": "c65af053-54ca-40f3-bd55-70ff3592a70c",
   "metadata": {},
   "outputs": [
    {
     "data": {
      "application/vnd.jupyter.widget-view+json": {
       "model_id": "8118cb797c1343ecb21560768f302a98",
       "version_major": 2,
       "version_minor": 0
      },
      "text/plain": [
       "SelectMultiple(options=('tab', '\"'), value=())"
      ]
     },
     "execution_count": 26,
     "metadata": {},
     "output_type": "execute_result"
    }
   ],
   "source": [
    "eraser = widgets.SelectMultiple(\n",
    "    options=['tab','\"'],\n",
    "    volue=['tab'],\n",
    "    #rows=10,\n",
    "    descripton='Eraser: ',\n",
    "    disable=False\n",
    ")\n",
    "eraser"
   ]
  },
  {
   "cell_type": "markdown",
   "id": "b5fe05d2-619b-4a86-8096-f2d989bb8b36",
   "metadata": {},
   "source": [
    "### RadioButtons Widget"
   ]
  },
  {
   "cell_type": "code",
   "execution_count": 27,
   "id": "204ef44e-7b57-4fbd-ac92-a4d87eff9502",
   "metadata": {
    "scrolled": true
   },
   "outputs": [
    {
     "data": {
      "application/vnd.jupyter.widget-view+json": {
       "model_id": "485576193bff4317a11d0f21b0471d3a",
       "version_major": 2,
       "version_minor": 0
      },
      "text/plain": [
       "RadioButtons(description='Separator: ', options=(';', ',', ' '), value=';')"
      ]
     },
     "execution_count": 27,
     "metadata": {},
     "output_type": "execute_result"
    }
   ],
   "source": [
    "delim = widgets.RadioButtons(\n",
    "    options=[';',',',' '],\n",
    "    description='Separator: ',\n",
    "    disabled=False\n",
    ")\n",
    "delim"
   ]
  },
  {
   "cell_type": "markdown",
   "id": "1d8d2aee-ec17-4afa-b4dd-051c60425ca3",
   "metadata": {},
   "source": [
    "### IntSlider"
   ]
  },
  {
   "cell_type": "code",
   "execution_count": 7,
   "id": "ebb32186-5d58-4197-adcf-51a6dccda34d",
   "metadata": {},
   "outputs": [
    {
     "data": {
      "application/vnd.jupyter.widget-view+json": {
       "model_id": "aa40f86b74684d638b424920cfd40471",
       "version_major": 2,
       "version_minor": 0
      },
      "text/plain": [
       "IntSlider(value=0, continuous_update=False, description='# of lines:')"
      ]
     },
     "execution_count": 7,
     "metadata": {},
     "output_type": "execute_result"
    }
   ],
   "source": [
    "rows = widgets.IntSlider(\n",
    "    value=0,\n",
    "    step=1,\n",
    "    description='# of lines:',\n",
    "    disabled=False,\n",
    "    continuous_update=False,\n",
    "    orientation='horizontal',\n",
    "    readout=True,\n",
    "    readout_format='d'\n",
    ")\n",
    "rows"
   ]
  },
  {
   "cell_type": "markdown",
   "id": "e4385657-bb54-495d-b32e-c0bcfdd275ef",
   "metadata": {},
   "source": [
    "### Accordion Widget"
   ]
  },
  {
   "cell_type": "code",
   "execution_count": 28,
   "id": "4520f035-6562-4d2e-85e4-a9ad57af9643",
   "metadata": {
    "scrolled": true
   },
   "outputs": [
    {
     "data": {
      "application/vnd.jupyter.widget-view+json": {
       "model_id": "2035250e80ad41c09d5d3809cae80f57",
       "version_major": 2,
       "version_minor": 0
      },
      "text/plain": [
       "Accordion(children=(FileUpload(value=(), description='Upload'), RadioButtons(description='Separator: ', option…"
      ]
     },
     "execution_count": 28,
     "metadata": {},
     "output_type": "execute_result"
    }
   ],
   "source": [
    "accordion = widgets.Accordion()\n",
    "accordion.children=[\n",
    "    up,\n",
    "    delim,\n",
    "    rows]\n",
    "accordion.set_title(0, 'File Selection')\n",
    "accordion.set_title(1, 'Delimiter')\n",
    "accordion.set_title(2, 'Skip Rows')\n",
    "accordion"
   ]
  },
  {
   "cell_type": "markdown",
   "id": "71e2ddf8-7727-404e-b3cc-9af1ce6e28fb",
   "metadata": {},
   "source": [
    "### Button Widget"
   ]
  },
  {
   "cell_type": "code",
   "execution_count": 9,
   "id": "d60c7745-5c9f-45ef-a9c6-8a7edfdfb53a",
   "metadata": {},
   "outputs": [
    {
     "data": {
      "application/vnd.jupyter.widget-view+json": {
       "model_id": "eb31f56aa29348f5be54acd3c9f30f08",
       "version_major": 2,
       "version_minor": 0
      },
      "text/plain": [
       "Button(button_style='warning', description='Upload', icon='check', style=ButtonStyle(), tooltip='Click to Uplo…"
      ]
     },
     "execution_count": 9,
     "metadata": {},
     "output_type": "execute_result"
    }
   ],
   "source": [
    "button_upload = widgets.Button(\n",
    "    description='Upload',\n",
    "    disabled=False,\n",
    "    button_style='warning',\n",
    "    tooltip='Click to Upload',\n",
    "    icon='check'\n",
    ")\n",
    "button_upload"
   ]
  },
  {
   "cell_type": "code",
   "execution_count": 10,
   "id": "edc98611-6e9f-4e3b-aac7-b552a302a829",
   "metadata": {},
   "outputs": [
    {
     "data": {
      "application/vnd.jupyter.widget-view+json": {
       "model_id": "0f64ab67eb354e43b76dc67df5c4df79",
       "version_major": 2,
       "version_minor": 0
      },
      "text/plain": [
       "Button(button_style='info', description='Preview', icon='search', style=ButtonStyle(), tooltip='Click to Previ…"
      ]
     },
     "execution_count": 10,
     "metadata": {},
     "output_type": "execute_result"
    }
   ],
   "source": [
    "button_preview = widgets.Button(\n",
    "    description='Preview',\n",
    "    disabled=False,\n",
    "    button_style='info',\n",
    "    tooltip='Click to Preview',\n",
    "    icon='search'\n",
    ")\n",
    "button_preview"
   ]
  },
  {
   "cell_type": "code",
   "execution_count": 11,
   "id": "019ccb11-c2a5-40df-8c2b-9e9a2ec0907b",
   "metadata": {},
   "outputs": [
    {
     "data": {
      "application/vnd.jupyter.widget-view+json": {
       "model_id": "b9f4485a4a774d81adb53fe95a8b3a5c",
       "version_major": 2,
       "version_minor": 0
      },
      "text/plain": [
       "Button(button_style='danger', description='Plot', icon='pencil', style=ButtonStyle(), tooltip='Click to Plot')"
      ]
     },
     "execution_count": 11,
     "metadata": {},
     "output_type": "execute_result"
    }
   ],
   "source": [
    "button_plot = widgets.Button(\n",
    "    description='Plot',\n",
    "    disabled=False,\n",
    "    button_style='danger',\n",
    "    tooltip='Click to Plot',\n",
    "    icon='pencil'\n",
    ")\n",
    "button_plot"
   ]
  },
  {
   "cell_type": "markdown",
   "id": "297f84a5-bd44-46cc-8b7d-32948a7c2eea",
   "metadata": {},
   "source": [
    "### Groupping - HBox/VBox"
   ]
  },
  {
   "cell_type": "code",
   "execution_count": 31,
   "id": "69afb8d2-f2fe-46ed-b347-196e2bd3f584",
   "metadata": {},
   "outputs": [
    {
     "data": {
      "application/vnd.jupyter.widget-view+json": {
       "model_id": "ccf4cbcbc9284da2ae69e767a913d3fc",
       "version_major": 2,
       "version_minor": 0
      },
      "text/plain": [
       "VBox(children=(RadioButtons(description='Separator: ', options=(';', ',', ' '), value=';'), SelectMultiple(ind…"
      ]
     },
     "execution_count": 31,
     "metadata": {},
     "output_type": "execute_result"
    }
   ],
   "source": [
    "vb = widgets.VBox([delim, eraser])\n",
    "vb"
   ]
  },
  {
   "cell_type": "code",
   "execution_count": 30,
   "id": "329e1d8e-206a-4bc2-aaf8-73d524c03d11",
   "metadata": {},
   "outputs": [
    {
     "data": {
      "application/vnd.jupyter.widget-view+json": {
       "model_id": "2928d6ebdf954e30974026ee40bb433e",
       "version_major": 2,
       "version_minor": 0
      },
      "text/plain": [
       "HBox(children=(RadioButtons(description='Separator: ', options=(';', ',', ' '), value=';'), SelectMultiple(ind…"
      ]
     },
     "execution_count": 30,
     "metadata": {},
     "output_type": "execute_result"
    }
   ],
   "source": [
    "hb = widgets.HBox([delim, eraser])\n",
    "hb"
   ]
  },
  {
   "cell_type": "code",
   "execution_count": 32,
   "id": "50905398-80bc-4bf1-b102-c77937c17cbd",
   "metadata": {},
   "outputs": [
    {
     "data": {
      "application/vnd.jupyter.widget-view+json": {
       "model_id": "bdf7d427b0e544f899646b09fae3ab4c",
       "version_major": 2,
       "version_minor": 0
      },
      "text/plain": [
       "VBox(children=(Accordion(children=(FileUpload(value=(), description='Upload'), VBox(children=(RadioButtons(des…"
      ]
     },
     "execution_count": 32,
     "metadata": {},
     "output_type": "execute_result"
    }
   ],
   "source": [
    "accordion.children=[\n",
    "    up,\n",
    "    widgets.VBox([delim, eraser]),\n",
    "    rows]\n",
    "\n",
    "accordion_box = widgets.VBox([\n",
    "    accordion,\n",
    "    widgets.HBox([button_preview, button_upload]),\n",
    "    out\n",
    "])\n",
    "accordion_box"
   ]
  },
  {
   "cell_type": "markdown",
   "id": "66158c26-03c9-4032-97e1-0c04b4fe3286",
   "metadata": {},
   "source": [
    "### ToggleButtons Widget"
   ]
  },
  {
   "cell_type": "code",
   "execution_count": 33,
   "id": "4c2ac25d-f35c-43d3-a32d-9a42211d08d0",
   "metadata": {},
   "outputs": [
    {
     "data": {
      "application/vnd.jupyter.widget-view+json": {
       "model_id": "bfb1b8f22cba4ce4a421a7ef4a633964",
       "version_major": 2,
       "version_minor": 0
      },
      "text/plain": [
       "ToggleButtons(button_style='warning', description='Options', icons=('search', 'info', 'tachometer'), options=(…"
      ]
     },
     "execution_count": 33,
     "metadata": {},
     "output_type": "execute_result"
    }
   ],
   "source": [
    "toggle = widgets.ToggleButtons(\n",
    "    options=['Preview ' , 'Info ' , 'Stats '],\n",
    "    description='Options',\n",
    "    disabled=False,\n",
    "    button_style='warning',\n",
    "    icons=['search', 'info', 'tachometer']\n",
    ")\n",
    "#toggle.observe(desc_clicked, 'value'))\n",
    "toggle"
   ]
  },
  {
   "cell_type": "markdown",
   "id": "4e19b024-0941-4693-8555-eccaabf8cb27",
   "metadata": {},
   "source": [
    "### Dropdown Widget"
   ]
  },
  {
   "cell_type": "code",
   "execution_count": 34,
   "id": "18f26fb7-f3ad-404d-b843-2095b4d2d761",
   "metadata": {},
   "outputs": [
    {
     "data": {
      "application/vnd.jupyter.widget-view+json": {
       "model_id": "629e8e7fc57b4bbe91333294c8b01deb",
       "version_major": 2,
       "version_minor": 0
      },
      "text/plain": [
       "Dropdown(description='Chart Type:', options=('Bar Chart', 'Line Chart'), value='Bar Chart')"
      ]
     },
     "execution_count": 34,
     "metadata": {},
     "output_type": "execute_result"
    }
   ],
   "source": [
    "x_axis = widgets.Dropdown(\n",
    "    options=[''],\n",
    "    value='',\n",
    "    description='X-Axis:',\n",
    "    disabled=False,\n",
    ")\n",
    "\n",
    "y_axis = widgets.Dropdown(\n",
    "    options=[''],\n",
    "    value='',\n",
    "    description='X-Axis:',\n",
    "    disabled=False, \n",
    ")\n",
    "\n",
    "graph_type = widgets.Dropdown(\n",
    "    options=['Bar Chart', 'Line Chart'],\n",
    "    value='Bar Chart',\n",
    "    description='Chart Type:',\n",
    "    disabled=False,  \n",
    ")\n",
    "graph_type"
   ]
  },
  {
   "cell_type": "markdown",
   "id": "d5cb3007-4c37-480b-ac65-4a34933c8e70",
   "metadata": {},
   "source": [
    "### ColorPicker Widget"
   ]
  },
  {
   "cell_type": "code",
   "execution_count": 36,
   "id": "c163dfed-94ab-4b59-a025-599220dc5e8c",
   "metadata": {},
   "outputs": [
    {
     "data": {
      "application/vnd.jupyter.widget-view+json": {
       "model_id": "7d24114e229f4ade8d805b1891190038",
       "version_major": 2,
       "version_minor": 0
      },
      "text/plain": [
       "ColorPicker(value='lightblue', description='Color Picker:')"
      ]
     },
     "execution_count": 36,
     "metadata": {},
     "output_type": "execute_result"
    }
   ],
   "source": [
    "color_picker = widgets.ColorPicker(\n",
    "    concise=False,\n",
    "    description='Color Picker:',\n",
    "    value='lightblue',\n",
    "    disabled=False\n",
    ")\n",
    "color_picker"
   ]
  },
  {
   "cell_type": "code",
   "execution_count": 37,
   "id": "9899cb56-5021-430a-9a92-d116fe70ad9f",
   "metadata": {},
   "outputs": [
    {
     "data": {
      "application/vnd.jupyter.widget-view+json": {
       "model_id": "aeebdba33bb344009664aa4b515f2a27",
       "version_major": 2,
       "version_minor": 0
      },
      "text/plain": [
       "Tab(children=(VBox(children=(Accordion(children=(FileUpload(value=(), description='Upload'), VBox(children=(Ra…"
      ]
     },
     "execution_count": 37,
     "metadata": {},
     "output_type": "execute_result"
    }
   ],
   "source": [
    "children = [\n",
    "    accordion_box,\n",
    "    widgets.VBox([toggle, out]),\n",
    "    widgets.VBox([\n",
    "        widgets.HBox([graph_type, color_picker]),\n",
    "        widgets.HBox([x_axis, y_axis]),\n",
    "        button_plot,\n",
    "        out\n",
    "])]\n",
    "tab.children = children\n",
    "tab"
   ]
  },
  {
   "cell_type": "markdown",
   "id": "3c7bb253-f847-4606-94fb-432d900cb8f2",
   "metadata": {},
   "source": [
    "### Value Import"
   ]
  },
  {
   "cell_type": "code",
   "execution_count": 38,
   "id": "8a704505-2a5c-4437-a065-d4a1733a3eee",
   "metadata": {},
   "outputs": [],
   "source": [
    "def content_parser():\n",
    "    if  up.value == {}:\n",
    "        with out:\n",
    "            print('No CVS loaded')\n",
    "    else:\n",
    "        typ, content = \"\", \"\"\n",
    "        up_value = up.value\n",
    "        for i in up_value.keys():\n",
    "            typ = up_value[i][\"metadata\"][\"type\"]\n",
    "            \n",
    "            if typ == \"text/csv\":\n",
    "                content = up_value[i][\"content\"]\n",
    "                content_str = str(content, 'utf-8')\n",
    "\n",
    "                if eraser.value != {}:\n",
    "                    for val in eraser.value:\n",
    "                        if val == \"tab\":\n",
    "                           content_str = content_str.replace(\"\\t\",\"\")\n",
    "                        else:\n",
    "                           content_str = content_str.replace(\"val\", \"\")\n",
    "        if content_str !=\"\":\n",
    "            str_io = StringIO(content_str)\n",
    "            return str_io\n",
    "def df_converter():\n",
    "    content = content_parser()\n",
    "    if content is not None:\n",
    "        df = pd.read_csv(content, sep=delim.value, index_col=False, skiprows=rows.value)\n",
    "        return df\n",
    "    else:\n",
    "        return None"
   ]
  },
  {
   "cell_type": "code",
   "execution_count": 41,
   "id": "0963c646-5d67-4b25-be39-2b4f2ac0a2b1",
   "metadata": {},
   "outputs": [
    {
     "data": {
      "application/vnd.jupyter.widget-view+json": {
       "model_id": "aeebdba33bb344009664aa4b515f2a27",
       "version_major": 2,
       "version_minor": 0
      },
      "text/plain": [
       "Tab(children=(VBox(children=(Accordion(children=(FileUpload(value=(), description='Upload'), VBox(children=(Ra…"
      ]
     },
     "execution_count": 41,
     "metadata": {},
     "output_type": "execute_result"
    }
   ],
   "source": [
    "tab"
   ]
  },
  {
   "cell_type": "code",
   "execution_count": 43,
   "id": "ec188d0b-3c64-4cd2-b164-8a1fdca8b81e",
   "metadata": {},
   "outputs": [
    {
     "ename": "AttributeError",
     "evalue": "'tuple' object has no attribute 'keys'",
     "output_type": "error",
     "traceback": [
      "\u001b[1;31m---------------------------------------------------------------------------\u001b[0m",
      "\u001b[1;31mAttributeError\u001b[0m                            Traceback (most recent call last)",
      "Cell \u001b[1;32mIn[43], line 1\u001b[0m\n\u001b[1;32m----> 1\u001b[0m df_converter()\n",
      "Cell \u001b[1;32mIn[38], line 25\u001b[0m, in \u001b[0;36mdf_converter\u001b[1;34m()\u001b[0m\n\u001b[0;32m     24\u001b[0m \u001b[38;5;28;01mdef\u001b[39;00m \u001b[38;5;21mdf_converter\u001b[39m():\n\u001b[1;32m---> 25\u001b[0m     content \u001b[38;5;241m=\u001b[39m content_parser()\n\u001b[0;32m     26\u001b[0m     \u001b[38;5;28;01mif\u001b[39;00m content \u001b[38;5;129;01mis\u001b[39;00m \u001b[38;5;129;01mnot\u001b[39;00m \u001b[38;5;28;01mNone\u001b[39;00m:\n\u001b[0;32m     27\u001b[0m         df \u001b[38;5;241m=\u001b[39m pd\u001b[38;5;241m.\u001b[39mread_csv(content, sep\u001b[38;5;241m=\u001b[39mdelim\u001b[38;5;241m.\u001b[39mvalue, index_col\u001b[38;5;241m=\u001b[39m\u001b[38;5;28;01mFalse\u001b[39;00m, skiprows\u001b[38;5;241m=\u001b[39mrows\u001b[38;5;241m.\u001b[39mvalue)\n",
      "Cell \u001b[1;32mIn[38], line 8\u001b[0m, in \u001b[0;36mcontent_parser\u001b[1;34m()\u001b[0m\n\u001b[0;32m      6\u001b[0m typ, content \u001b[38;5;241m=\u001b[39m \u001b[38;5;124m\"\u001b[39m\u001b[38;5;124m\"\u001b[39m, \u001b[38;5;124m\"\u001b[39m\u001b[38;5;124m\"\u001b[39m\n\u001b[0;32m      7\u001b[0m up_value \u001b[38;5;241m=\u001b[39m up\u001b[38;5;241m.\u001b[39mvalue\n\u001b[1;32m----> 8\u001b[0m \u001b[38;5;28;01mfor\u001b[39;00m i \u001b[38;5;129;01min\u001b[39;00m up_value\u001b[38;5;241m.\u001b[39mkeys():\n\u001b[0;32m      9\u001b[0m     typ \u001b[38;5;241m=\u001b[39m up_value[i][\u001b[38;5;124m\"\u001b[39m\u001b[38;5;124mmetadata\u001b[39m\u001b[38;5;124m\"\u001b[39m][\u001b[38;5;124m\"\u001b[39m\u001b[38;5;124mtype\u001b[39m\u001b[38;5;124m\"\u001b[39m]\n\u001b[0;32m     11\u001b[0m     \u001b[38;5;28;01mif\u001b[39;00m typ \u001b[38;5;241m==\u001b[39m \u001b[38;5;124m\"\u001b[39m\u001b[38;5;124mtext/csv\u001b[39m\u001b[38;5;124m\"\u001b[39m:\n",
      "\u001b[1;31mAttributeError\u001b[0m: 'tuple' object has no attribute 'keys'"
     ]
    }
   ],
   "source": [
    "df_converter()"
   ]
  },
  {
   "cell_type": "markdown",
   "id": "76409808-195a-4077-a2bb-7ceef3d0ffa8",
   "metadata": {},
   "source": [
    "### Button Action"
   ]
  },
  {
   "cell_type": "raw",
   "id": "e7243724-1301-4e7f-bb72-e742994f155a",
   "metadata": {},
   "source": [
    "1 ### Preview Button\n",
    "2 ### Upload Button\n",
    "3 ### Description ToggleButton\n",
    "4 ### Plot Button"
   ]
  },
  {
   "cell_type": "markdown",
   "id": "f0c575fd-823d-4a5d-a69d-670d68858354",
   "metadata": {},
   "source": [
    "### Preview Button"
   ]
  },
  {
   "cell_type": "code",
   "execution_count": 49,
   "id": "497d517d-aae2-446d-a592-29070f83fced",
   "metadata": {},
   "outputs": [],
   "source": [
    "def preview():\n",
    "    df = df_converter()\n",
    "    with out:\n",
    "        out.clear_output()\n",
    "        print('\\n ------Now this is how your DF looks like:-------\\n')\n",
    "        if df is not None:\n",
    "            print(df.head(10))\n",
    "        else:\n",
    "            print('Configuration is wrong/missing...')\n",
    "            "
   ]
  },
  {
   "cell_type": "code",
   "execution_count": 46,
   "id": "327700c3-3bee-493e-bd7e-11d1a562daf2",
   "metadata": {},
   "outputs": [],
   "source": [
    "def preview_clicked(b):\n",
    "    preview()\n",
    "\n",
    "button_preview.on_click(preview_clicked)"
   ]
  },
  {
   "cell_type": "markdown",
   "id": "b4083a3f-1221-474a-8455-d132cef2c5bf",
   "metadata": {},
   "source": [
    "### Upload Button"
   ]
  },
  {
   "cell_type": "code",
   "execution_count": 47,
   "id": "5a498d8c-447f-4d6b-8f75-aa4751507129",
   "metadata": {},
   "outputs": [],
   "source": [
    "def upload():\n",
    "    df = df_converter()\n",
    "    with out:\n",
    "        out.clear_output()\n",
    "        print('\\n ------Your uploaded DF  looks like:-----\\n')\n",
    "        if df is not None:\n",
    "            print(df)\n",
    "            x_axis.options = df.columns\n",
    "            y_axis.options = df.columns\n",
    "        else:\n",
    "            print('Configuration is wrong/missing...')"
   ]
  },
  {
   "cell_type": "code",
   "execution_count": 48,
   "id": "b3bd4ba0-7578-4b6d-89bf-60bf5fac7f7e",
   "metadata": {},
   "outputs": [],
   "source": [
    "def upload_clicked(b):\n",
    "    upload()\n",
    "\n",
    "button_upload.on_click(upload_clicked)"
   ]
  },
  {
   "cell_type": "markdown",
   "id": "c0a3eed3-2d49-4eda-8b6a-b427ce4d7835",
   "metadata": {},
   "source": [
    "### Description ToggleButton"
   ]
  },
  {
   "cell_type": "code",
   "execution_count": 51,
   "id": "7c709c47-e1bc-48b7-84fe-294e2cc9071f",
   "metadata": {},
   "outputs": [],
   "source": [
    "def desc():\n",
    "    info_level = toggle.value\n",
    "    if info_level != {}:\n",
    "        df = df_converter()\n",
    "        with out:\n",
    "            out.clear_output()\n",
    "            print('\\n -------Your {} looks like:--------\\n'.format(info_level))\n",
    "            if df is not None:\n",
    "                if info_level == 'Info  ':\n",
    "                    print(df.info(verbose=True))\n",
    "                elif info_level == 'Stats   ':\n",
    "                    print(df.describe())\n",
    "                elif info_level == 'Preview  ':\n",
    "                    print(df.head(5))\n",
    "                else:\n",
    "                    print('Configuration is wrong/missing...')"
   ]
  },
  {
   "cell_type": "code",
   "execution_count": 52,
   "id": "b3d1072c-c7ab-4d97-b0a2-3d216bc32256",
   "metadata": {},
   "outputs": [],
   "source": [
    "def desc_clicked(b):\n",
    "    desc()\n",
    "\n",
    "toggle.observe(desc_clicked, \"value\")"
   ]
  },
  {
   "cell_type": "markdown",
   "id": "3af997d7-2d22-42ff-aa6e-6064353dd541",
   "metadata": {},
   "source": [
    "### Plot Button"
   ]
  },
  {
   "cell_type": "code",
   "execution_count": 53,
   "id": "a62ceed5-5be6-49eb-9e93-209850534fdf",
   "metadata": {},
   "outputs": [],
   "source": [
    "def plot():\n",
    "    graph = graph_type.value\n",
    "    if graph != {}:\n",
    "        df = df_converter()\n",
    "        with out:\n",
    "            out.clear_output()\n",
    "            print('\\n -------Your {} looks like:-----  \\n'.format(graph))\n",
    "            if (df is not None):\n",
    "                #df = df.head(5)\n",
    "                height = df[y_axis.value]\n",
    "                bars = df[x_axis.value]\n",
    "                y_pos = np.arange(len(height))\n",
    "                plt.figure(figsize=(10,4))\n",
    "                if graph == 'Bar Chart':\n",
    "\n",
    "\n",
    "                    # Create bars\n",
    "                    plt.bar(\n",
    "                        y_pos,\n",
    "                        height,\n",
    "                        color=color_picker.value)\n",
    "\n",
    "                    # Create names on the x-axis\n",
    "                    plt.xticks(y_pos, bars)\n",
    "                elif graph == 'Line Chart':\n",
    "                    plt.plot(\n",
    "                        bars,\n",
    "                        height,\n",
    "                        color=color_picker.value,\n",
    "                        marker='o',\n",
    "                        linestyle='solid'\n",
    "                    )\n",
    "                    plt.xticks(bars)\n",
    "\n",
    "                    # Show graphic\n",
    "                    plt.show()"
   ]
  },
  {
   "cell_type": "code",
   "execution_count": 54,
   "id": "b1d0b631-9484-4806-85ed-bdbb451c5320",
   "metadata": {},
   "outputs": [],
   "source": [
    "def plotter_clicked(b):\n",
    "    plot()\n",
    "\n",
    "button_plot.on_click(plotter_clicked)"
   ]
  },
  {
   "cell_type": "code",
   "execution_count": 56,
   "id": "baf8820a-8a4d-4a8f-bc97-a41e3adc7c68",
   "metadata": {},
   "outputs": [
    {
     "data": {
      "application/vnd.jupyter.widget-view+json": {
       "model_id": "aeebdba33bb344009664aa4b515f2a27",
       "version_major": 2,
       "version_minor": 0
      },
      "text/plain": [
       "Tab(children=(VBox(children=(Accordion(children=(FileUpload(value=({'name': 'tur_script.sql', 'type': '', 'siz…"
      ]
     },
     "execution_count": 56,
     "metadata": {},
     "output_type": "execute_result"
    }
   ],
   "source": [
    "tab"
   ]
  },
  {
   "cell_type": "code",
   "execution_count": null,
   "id": "1dcb3212-87ba-4866-af70-562c4f206f51",
   "metadata": {},
   "outputs": [],
   "source": []
  }
 ],
 "metadata": {
  "kernelspec": {
   "display_name": "Python 3 (ipykernel)",
   "language": "python",
   "name": "python3"
  },
  "language_info": {
   "codemirror_mode": {
    "name": "ipython",
    "version": 3
   },
   "file_extension": ".py",
   "mimetype": "text/x-python",
   "name": "python",
   "nbconvert_exporter": "python",
   "pygments_lexer": "ipython3",
   "version": "3.11.7"
  }
 },
 "nbformat": 4,
 "nbformat_minor": 5
}
